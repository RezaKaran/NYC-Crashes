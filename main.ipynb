{
 "cells": [
  {
   "cell_type": "code",
   "execution_count": null,
   "metadata": {},
   "outputs": [],
   "source": [
    "import pandas as pd\n",
    "import numpy as np\n",
    "import sklearn\n",
    "from sklearn.datasets import load_sample_images\n",
    "from sklearn import preprocessing\n",
    "from sklearn.model_selection import train_test_split\n",
    "from sklearn import datasets\n",
    "from matplotlib import pyplot as plt\n",
    "import cv2\n",
    "from analyse import Information\n",
    "from cleaning import Cleaning\n",
    "from preprocessing import Preprocessing\n",
    "\n",
    "\n",
    "\n",
    "\n",
    "\n",
    "\n",
    "#***Get Information funtions***\n",
    "\n",
    "df=Information().read_the_file()\n",
    "Information().display_image()\n",
    "Information().df_head(df)\n",
    "#Information().analyse_df_describe(df)\n",
    "#Information().analyse_df_columns(df)\n",
    "#Information().analyse_df_info(df)\n",
    "#Information().analyse_df_index(df)\n",
    "#Information().analyse_df_null(df)\n",
    "#Information().analyse_df_duplicated(df)\n",
    "#Information().analyse_df_datatype(df)\n",
    "#Information().analyse_df_uniquevalues(df)\n",
    "\n",
    "#***Cleaning functions***\n",
    "\n",
    "#df=Cleaning().remove_strip(df)\n",
    "#Cleaning().rename_name_of_columns(df)\n",
    "#Cleaning().fill_null_values(df)\n",
    "#df=Cleaning(). need_investigation(df)\n",
    "#Cleaning().replace_texts(df)\n",
    "#Cleaning().changing_datatypes(df)\n",
    "\n",
    "#***Preprocessing Functions***\n",
    "\n",
    "#df=Preprocessing().feature_selection(df)\n",
    "#df=Preprocessing().feature_slicing(df)\n",
    "#df=Preprocessing().feature_engineering(df)\n",
    "#df_normalized=Preprocessing().new_df_normalization(df)\n",
    "#Preprocessing().resampling(df)\n",
    "\n",
    "#***Save the file to csv***\n",
    "\n",
    "#df.to_csv(\"Clean_database_NYC.csv\")\n"
   ]
  }
 ],
 "metadata": {
  "kernelspec": {
   "display_name": "Python 3",
   "language": "python",
   "name": "python3"
  },
  "language_info": {
   "codemirror_mode": {
    "name": "ipython",
    "version": 3
   },
   "file_extension": ".py",
   "mimetype": "text/x-python",
   "name": "python",
   "nbconvert_exporter": "python",
   "pygments_lexer": "ipython3",
   "version": "3.8.5"
  }
 },
 "nbformat": 4,
 "nbformat_minor": 4
}
